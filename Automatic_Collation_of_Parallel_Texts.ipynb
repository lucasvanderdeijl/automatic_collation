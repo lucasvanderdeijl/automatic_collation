{
 "cells": [
  {
   "cell_type": "markdown",
   "metadata": {},
   "source": [
    "# Automatic Collation of Parallel Texts\n",
    "\n",
    "Author: Lucas van der Deijl, University of Amsterdam  \n",
    "Version: 20 June 2019  \n",
    "Contact: l.a.vanderdeijl@uva.nl, www.lucasvanderdeijl.nl  \n",
    "Project: 'Radical Rumours' (Funded by NWO 2017-2021)\n",
    "\n",
    "<img src=\"https://www.nwo.nl/binaries/content/documents/nwo/algemeen/documentation/application/ttw/logos/nwo-eng-cmyk-jpg/NWO+ENG+CMYK+%28JPG%29.jp\" style=\"width:200px; float: left;\" />\n"
   ]
  },
  {
   "cell_type": "markdown",
   "metadata": {},
   "source": [
    "## Aim of this program\n",
    "\n",
    "The aim of this program is to automate three tasks: \n",
    "+ to align equivalent sentences from a pair of parallel texts*; \n",
    "+ to formalise and calculate the relative difference between these equivalent sentences;\n",
    "+ to extract the lexical differences per aligned sentence-pair.\n",
    "\n",
    "*A pair of parallel text variants can consist of two different (mono-lingual) translations of a given source text or of two variants of the same text (a manuscript and its printed equivalent, two different editions of the same text etc.)\n",
    "\n",
    "The results of these tasks will be both visualised directly and stored as .png images in the directory of this notebook. In addition, a copy of all results will be stored in a structured .txt-file in the directory of this notebook. \n",
    "\n",
    "This Jupyter notebook can be used to reuse the code or to replicate the collation with your own pair of parallel texts. Run each code block individually or use the 'Run all'-option from the Cell-tab.\n",
    "\n",
    "## Pipeline\n",
    "\n",
    "The pipeline desigend to achieve the program's aim performs the following steps:\n",
    "+ Import the required libraries\n",
    "+ Install the required libraries (if needed)\n",
    "+ Load the files\n",
    "+ Set the parameters\n",
    "+ Preprocess the texts\n",
    "+ Create a list of unique words\n",
    "+ Create chunks ('windows') of a set number of consecutive sentences from both texts\n",
    "+ Align equivalent windows and sentences\n",
    "+ Calculate similarity between aligned sentence pairs\n",
    "+ Visualise the results\n",
    "<hr>"
   ]
  },
  {
   "cell_type": "markdown",
   "metadata": {},
   "source": [
    "### Import the required libraries\n",
    "\n",
    "First, the required libaries and resources need to be imported. By default the method for tokenization is set to Dutch, but you can change this to any language the nltk supports by replacing 'dutch' for 'english', 'spanish', 'german' etc.:"
   ]
  },
  {
   "cell_type": "code",
   "execution_count": null,
   "metadata": {},
   "outputs": [],
   "source": [
    "import re\n",
    "import nltk.data\n",
    "import string\n",
    "import itertools\n",
    "import matplotlib.pyplot as plt\n",
    "from math import log, pow, sqrt\n",
    "from scipy import spatial\n",
    "from nltk.translate.bleu_score import sentence_bleu\n",
    "from nltk import edit_distance as levenshtein\n",
    "\n",
    "tokenizer = nltk.data.load('tokenizers/punkt/dutch.pickle') # change 'dutch' in this line to the language of your material"
   ]
  },
  {
   "cell_type": "markdown",
   "metadata": {},
   "source": [
    "## Install the required libraries (if needed)\n",
    "\n",
    "In case you got an error after the previous step because not all of the required modules are installed, you can uncomment (remove the '#') the relevant install-command below and run the code. Once the module is installed, run the block above again to import it before moving on to the next step."
   ]
  },
  {
   "cell_type": "code",
   "execution_count": null,
   "metadata": {},
   "outputs": [],
   "source": [
    "#!pip install nltk\n",
    "#!pip install itertools\n",
    "#!pip install scipy"
   ]
  },
  {
   "cell_type": "markdown",
   "metadata": {},
   "source": [
    "### Set the parameters\n",
    "\n",
    "Parameters to be set before analysis\n",
    "+ source_window_size [default = 10 sentences]\n",
    "+ target_window_size [default = 16 sentences]\n",
    "+ alignment_threshold [default = 0.1]"
   ]
  },
  {
   "cell_type": "code",
   "execution_count": null,
   "metadata": {},
   "outputs": [],
   "source": [
    "source_window_size = 10 # define the window size (number of sentences per chunk) for the source \n",
    "target_window_size = 16 # define the window size (number of sentences per chunk) for the target (> source_window_size in order to cope with 1-2 / 1-3 / 1-4 etc. alignments)\n",
    "alignment_threshold = 0.1 # the minimum cosine similarity for a pair of sentences to be aligned"
   ]
  },
  {
   "cell_type": "markdown",
   "metadata": {},
   "source": [
    "### Load the files\n",
    "\n",
    "The next step is to read the two inputfiles. These files should be stored in the directory of this Jupyter notebook and named 'source.txt' and 'target.txt'. Two sample files are available in the directory, containing two different Dutch editions of Descartes's _Discours de la méthode_ (1637). If you prefer to store the files elsewhere or use different filenames, you can edit the filepaths in the code below. Input files need to be stored in .txt and encoded in UTF-8.\n",
    "\n",
    "This step also defines a list of stopwords, to be used to visualise the most frequent lexical differences in the final step of this program. A list of stopwords for historical Dutch is included by default. Scholars working with material in a different language can upload their own stopwordsfile in the directory of this notebook and edit the filename in the code below."
   ]
  },
  {
   "cell_type": "code",
   "execution_count": null,
   "metadata": {},
   "outputs": [],
   "source": [
    "#set the file paths for the two input documents (defined as the 'source' and the 'target'). \n",
    "source = open(\"source.txt\", encoding=\"UTF-8\").read()\n",
    "target = open(\"target.txt\", encoding=\"UTF-8\").read()\n",
    "\n",
    "#create a workfile and a log file that stores the sentences the program was unable to match. This is where we will save the output.\n",
    "workfile = open(\"workfile.txt\", 'w', encoding=\"UTF-8\")\n",
    "unmatched = open(\"unmatched_sentences.txt\", 'w', encoding=\"UTF-8\")\n",
    "\n",
    "#define a stopwords list\n",
    "stopwords = open(\"stopwordsfile_Dutch.txt\", encoding=\"UTF-8\").read().split()\n",
    "\n",
    "#create headers in the workfile\n",
    "workfile.write(\"source window size: %d;target window size: %d ; ; ; ; ; ; ; \\n\" %(source_window_size, target_window_size))\n",
    "workfile.write(\"source_IDs; target_ID; average_similarity; cos_sim; bleu_score; levenshtein_similarity; tokens_in_source_window; tokens_in_target_window; ; ; source; target\\n\")\n",
    "unmatched.write(\"sentence_number; sentence; \\n\")"
   ]
  },
  {
   "cell_type": "markdown",
   "metadata": {},
   "source": [
    "### Preprocess the texts\n",
    "\n",
    "Next, the program prepares both input texts for analysis by removing punctuation and lowercasing all text. It also stores all sentences in a list of sentences for each text, in the following format: \n",
    "+ source_list = [['this', 'is', 'the', 'first', 'sentence', 'of', 'source'],['this', 'is', 'the', 'second', 'sentence', 'of', 'source'],[etc.]]\n",
    "+ target_list = [['this', 'is', 'the', 'first', 'sentence', 'of', 'target'],['this', 'is', 'the', 'second', 'sentence', 'of', 'target'],[etc.]]"
   ]
  },
  {
   "cell_type": "code",
   "execution_count": null,
   "metadata": {},
   "outputs": [],
   "source": [
    "#create a list of sentences from the source and target files\n",
    "source_sentences = tokenizer.tokenize(source)\n",
    "target_sentences = tokenizer.tokenize(target)\n",
    "    \n",
    "source_list = []\n",
    "target_list = []\n",
    "source_windows = []\n",
    "target_windows = []\n",
    "\n",
    "# tokenize, remove punctuation and lowercase the sentences in both the source and the target file\n",
    "for sentence in source_sentences:\n",
    "    sen = sentence.lower().translate(str.maketrans(\"\", \"\", string.punctuation)).encode('ascii', 'ignore').decode('utf-8')\n",
    "    tokens = nltk.word_tokenize(sen)\n",
    "    source_list.append(tokens)\n",
    "print(\"All sentences from the source have been pre-processed succesfully (tokenization, lowercasing, removal of punctuation)\")\n",
    "\n",
    "for sentence in target_sentences:\n",
    "    sen = sentence.lower().translate(str.maketrans(\"\", \"\", string.punctuation)).encode('ascii', 'ignore').decode('utf-8')\n",
    "    tokens = nltk.word_tokenize(sen)\n",
    "    target_list.append(tokens)\n",
    "print(\"All sentences from the source have been pre-processed succesfully (tokenization, lowercasing, removal of punctuation)\")\n",
    "print(len(target_list), \"sentences from the target document have been stored\")\n",
    "print(len(source_list), \"sentences from the source document have been stored\")"
   ]
  },
  {
   "cell_type": "markdown",
   "metadata": {},
   "source": [
    "### Create chunks ('windows') of a set number of consecutive sentences from both texts\n",
    "\n",
    "The next step is to parse the two lists of sentence and merge several adjecent sentences into sentence windows. This step enables 'macro-alignment' of windows of sentences. The size of the windows can be set (see 'Set the parameters' above)."
   ]
  },
  {
   "cell_type": "code",
   "execution_count": null,
   "metadata": {},
   "outputs": [],
   "source": [
    "# Seperate the list of sentences from the source file into unique (non-overlapping) fragments of source_window_size\n",
    "i = 0\n",
    "sen_counter = 0\n",
    "\n",
    "for no in range(0, len(source_list)):        \n",
    "    window = []\n",
    "    if i == (sen_counter + source_window_size):\n",
    "        sen_counter += source_window_size\n",
    "        for bla in range(0, source_window_size):\n",
    "            window += (source_list[((no - source_window_size) + bla)])\n",
    "        source_windows.append(window)            \n",
    "    i += 1\n",
    "print(\"Source windows created succesfully\")\n",
    "   \n",
    "# Seperate the list of sentences from the target file into incrementing (overlapping) fragments of target_window_size\n",
    "   \n",
    "for no in range(0, len(target_list)):        \n",
    "    window = []\n",
    "    if no <= (len(target_list) - target_window_size):\n",
    "        for sen_in_window in range(0, target_window_size):\n",
    "            window += (target_list[(no + sen_in_window)])\n",
    "        target_windows.append(window)\n",
    "print(\"Target windows created succesfully\")    "
   ]
  },
  {
   "cell_type": "markdown",
   "metadata": {},
   "source": [
    "### Create a list of unique words\n",
    "\n",
    "The following block of code creates a list of unique words in the corpus (source + target). It also calculates the document frequencies for each unique word and stores those values in a dictionary to be used for calculating the tf-idf values in the next step."
   ]
  },
  {
   "cell_type": "code",
   "execution_count": null,
   "metadata": {
    "scrolled": true
   },
   "outputs": [],
   "source": [
    "# Create a dictionary of all unique words and their corresponding frequencies in the source files\n",
    "unique_words = list(set([item for sublist in source_list for item in sublist] + [item for sublist in target_list for item in sublist]))\n",
    "df_per_word = {}\n",
    "\n",
    "for word in unique_words:\n",
    "    if word not in df_per_word:\n",
    "        df_per_word[word] = 0\n",
    "    for sentence in (source_list + target_list):\n",
    "        if word in sentence:\n",
    "            df_per_word[word] += 1\n",
    "print(\"Dictionary of\", len(unique_words), \"unique words created succesfully\")"
   ]
  },
  {
   "cell_type": "markdown",
   "metadata": {},
   "source": [
    "### Align equivalent windows and sentences\n",
    "\n",
    "The next step is to align equivalent windows and then equivalent sentences within those windows. The program performs the following steps:\n",
    "+ for each sentence window from the source document, calculate the relative word frequencies (expressed as tf-idf values) and compare them with the word frequencies in all sentence windows from the target document; \n",
    "\t+ calculate the cosine similarity between the possible pairs of the sentence window and all candidate target windows [source window 1 = target window 1, source window 1 = target window 2, source window 1 = target window 3 etc.];\n",
    "\t+ rank the target windows based on cosine similarity in descending order. Define the target window with the highest cosine similarity (rank = 1) as the equivalent of the source window;\n",
    "        + for each sentence in the sentence window calculate the cosine similarity between that sentence and all possible candidate sentences from the aligned target window;\n",
    "        + rank all sentences from the aligned target window based on cosine similarity in descending order; \n",
    "        + define the target sentence with the highest cosine similarity (ranked first in the previous step) as the most likely equivalent of the source sentence. If none of the potential sentence pairs scored above the alignment_threshold (of 0.1 by default), then the program establishes no match for that sentence: the similarity is considered too low for a reliable match."
   ]
  },
  {
   "cell_type": "code",
   "execution_count": null,
   "metadata": {},
   "outputs": [],
   "source": [
    "aligned_sens = {}\n",
    "unmatched_sents = []\n",
    "\n",
    "for no in range(len(source_windows)):\t# for each window from the source file, identify the equivalent window from the target file\n",
    "    compare = {}\n",
    "    i = 0\n",
    "    for target_window in target_windows: \n",
    "        unique_words_windowpair = list(set(source_windows[no] + target_window))\n",
    "        sourcewindow_vector = []\n",
    "        targetwindow_vector = []\n",
    "        for word in unique_words_windowpair:\n",
    "            occ_sw = source_windows[no].count(word)\n",
    "            occ_tw = target_window.count(word)\n",
    "            tf_sw = occ_sw / len(source_windows[no])\n",
    "            tf_tw = occ_tw / len(target_window)\n",
    "            df = df_per_word[word]\n",
    "            idf = log((len(source_windows) +len(target_windows))  / (1 + df))\n",
    "            tfidf_sw = tf_sw * idf\n",
    "            tfidf_tw = tf_tw * idf\n",
    "            sourcewindow_vector.append(tfidf_sw)\n",
    "            targetwindow_vector.append(tfidf_tw)\n",
    "        cos_sim_windowpair = 1 - spatial.distance.cosine(sourcewindow_vector, targetwindow_vector)\n",
    "        compare[i] = cos_sim_windowpair\n",
    "        i+= 1\n",
    "    match = False\n",
    "# sort the dictionary and define the target_window with the highest cosine similarity, based on tf-idf values, as the equivalent window \n",
    "    for k,v in sorted(compare.items(), key=lambda compare: compare[1], reverse=True):\n",
    "        if match == False:\n",
    "                \n",
    "# for each sentence from the source_window, find the most similar sentence from the equivalent target window\n",
    "#create lists of all sentences from the source window and the equivalent target window\n",
    "            source_win_sentences = []\n",
    "            target_win_sentences = []\n",
    "            first_sen_of_source_win = (no * source_window_size)\n",
    "            first_sen_of_target_win = k\n",
    "            i = first_sen_of_source_win\n",
    "            j = first_sen_of_target_win\n",
    "            for line in itertools.islice(source_list, first_sen_of_source_win, (first_sen_of_source_win + source_window_size)):\n",
    "                source_win_sentences.append(source_list[i])\n",
    "                i += 1\n",
    "            for line in itertools.islice(target_list, first_sen_of_target_win, (first_sen_of_target_win + target_window_size)):\n",
    "                target_win_sentences.append(target_list[j])\n",
    "                j += 1\n",
    "              \n",
    "            match = True\n",
    "            sen_no = first_sen_of_source_win\n",
    "\n",
    "            for source_sen in source_win_sentences:                     # For each sentence x from source_window x\n",
    "                compare2 = {}\n",
    "                i = first_sen_of_target_win\n",
    "                for target_sen in target_win_sentences:\n",
    "                    unique_words_senpair = list(set(source_sen + target_sen))\n",
    "                    sourcesen_vector = []\n",
    "                    targetsen_vector = []\n",
    "                    for word in unique_words_senpair:\n",
    "                        occ_ss = source_sen.count(word)\n",
    "                        occ_ts = target_sen.count(word)\t\t\t\t\n",
    "                        tf_ss = occ_ss / len(source_sen)\n",
    "                        tf_ts = occ_ts / (len(target_sen) + 1) # + 1 to avoid ZeroDivisionError\n",
    "                        df = df_per_word[word]\n",
    "                        idf = log((len(source_list) + len(target_list)) / (1 + df))\n",
    "                        tfidf_ss = tf_ss * idf\n",
    "                        tfidf_ts = tf_ts * idf\n",
    "                        sourcesen_vector.append(tfidf_ss)\n",
    "                        targetsen_vector.append(tfidf_ts)\n",
    "                    cos_sim_senpair = 1 - spatial.distance.cosine(sourcesen_vector, targetsen_vector)\n",
    "                    compare2[i] = cos_sim_senpair                        \n",
    "                    i += 1\n",
    "                match2 = False\n",
    "                for k,v in sorted(compare2.items(), key=lambda compare2: compare2[1], reverse=True):\n",
    "                    if match2 == False:\n",
    "                        if v > alignment_threshold:\n",
    "                            if k not in aligned_sens:\n",
    "                                aligned_sens[k] = []\n",
    "                            aligned_sens[k].append(sen_no)\n",
    "                               \n",
    "                            print(\"Match found between sentence \", sen_no, \" and \", k, \"confidence:\", v)\n",
    "                            sen_no += 1\n",
    "                            match2 = True\n",
    "\n",
    "                if match2 == False:                        \n",
    "                    print(\"no matching sentence was found for sentence \", sen_no)\n",
    "                    unmatched_sents.append((sen_no, source_sen))\n",
    "                    unmatched.write(\"%d; %s; \\n\" %(sen_no, source_sen))\n",
    "                    sen_no += 1\n",
    "print(\"Sentence alignment complete\")\n",
    "print((len(source_list) - len(unmatched_sents)), \"/\", len(source_list), \"sentences were aligned succesfully (= \", ((len(source_list) - len(unmatched_sents)) / len(source_list)), \"%)\")\n",
    "unmatched.close()"
   ]
  },
  {
   "cell_type": "markdown",
   "metadata": {},
   "source": [
    "### Calculate similarity between aligned sentence pairs\n",
    "\n",
    "Once the program has aligned all equivalent sentences, it will calculate the lexical overlap and extract the lexical differences between the sentences of each sentence pair. For each sentence pair, it:\n",
    "\n",
    "+ calculates the BLEU-score, the cosine similarity and the Levenshtein distance (normalised and converted to a similarity metric) between the equivalent sentences;\n",
    "+ extracts all unique words from the two equivalent sentences;\n",
    "+ saves both sentences from the aligned sentence pair, the unique words in the source and in the target, the cosine similarity, the BLEU-score and the Levensthein distance in the workfile."
   ]
  },
  {
   "cell_type": "code",
   "execution_count": null,
   "metadata": {
    "scrolled": true
   },
   "outputs": [],
   "source": [
    "#calculate and save metrics for all aligned sentence-pairs\n",
    "\n",
    "xvalues = []\n",
    "BLEU_yvalues = []\n",
    "Levenshtein_yvalues = []\n",
    "Cosine_yvalues = []\n",
    "\n",
    "untrans_in_source_total = []\n",
    "untrans_in_target_total = []\n",
    "\n",
    "for target_index in aligned_sens:\n",
    "    xvalues.append(target_index)\n",
    "    source_indices = ','.join(str(e) for e in aligned_sens[target_index])\n",
    "    source_sen = []\n",
    "    target_sen = target_list[target_index]\n",
    "    for sen in aligned_sens[target_index]:\n",
    "        source_sen += source_list[sen]\n",
    "\n",
    "#calculate Bleu-score\n",
    "    reference = []\n",
    "    reference.append(source_sen)\n",
    "    bleu = sentence_bleu(reference, target_sen)\n",
    "    BLEU_yvalues.append(bleu)\n",
    "    \n",
    "#calculate relative number of overlapping words\n",
    "    unique_words_senpair = []\n",
    "    untransl_insource = []\n",
    "    untransl_intarget = []\n",
    "    for word in source_sen:\n",
    "        if word not in target_sen:\n",
    "            untransl_insource.append(word)\n",
    "        if word not in unique_words_senpair:\n",
    "            unique_words_senpair.append(word)\n",
    "    for word in target_sen:\n",
    "        if word not in source_sen:\n",
    "            untransl_intarget.append(word)\n",
    "        if word not in unique_words_senpair:\n",
    "            unique_words_senpair.append(word)\n",
    "    similarity_source = 1 - (len(untransl_insource) / len(source_sen))\n",
    "    similarity_target = 1 - (len(untransl_intarget) / len(target_sen))\n",
    "    average_sim = (similarity_source + similarity_target) / 2\n",
    "    untrans_in_source_total.append(untransl_insource)\n",
    "    untrans_in_target_total.append(untransl_intarget)\n",
    "\n",
    "#calculate cosine similarity \n",
    "    source_vector = []\n",
    "    target_vector = []\n",
    "    for word in unique_words_senpair: \n",
    "        tf_s = source_sen.count(word) / len(source_sen)\n",
    "        tf_t = target_sen.count(word) / len(target_sen)\n",
    "        df = df_per_word[word]\n",
    "        idf = log((len(source_list) + len(target_list)) / (1 + df))\n",
    "        tfidf_s = tf_s * idf\n",
    "        tfidf_t = tf_t * idf\n",
    "        source_vector.append(tfidf_s)\n",
    "        target_vector.append(tfidf_t)\n",
    "    cos_sim = 1 - spatial.distance.cosine(source_vector, target_vector)\n",
    "    Cosine_yvalues.append(cos_sim)\n",
    "\n",
    "#calculate Levenshtein-distance\n",
    "    source_str = ' '.join(source_sen)\n",
    "    target_str = ' '.join(target_sen)\n",
    "    if len(source_sen) >= len(target_sen):\n",
    "        levenshtein_sim = 1- sqrt(pow((levenshtein(source_str, target_str) / len(source_sen)), 2))\n",
    "    else:\n",
    "        levenshtein_sim = 1- (levenshtein(source_str, target_str) / len(target_sen))\n",
    "    Levenshtein_yvalues.append(levenshtein_sim)\n",
    "    \n",
    "    #print and save the results\t\t\n",
    "    print(\"%s; %d; %g; %g; %g; %g; %d; %d; \\n\" %(source_indices, target_index, average_sim, cos_sim, bleu, levenshtein_sim, len(source_sen), len(target_sen)))\n",
    "    workfile.write(\"%s; %d; %g; %g; %g; %g; %d; %d; %s; %s; %s; %s; \\n\" %(source_indices, target_index, average_sim, cos_sim, bleu, levenshtein_sim, len(source_sen), len(target_sen), untransl_insource, untransl_intarget, source_str, target_str))\n",
    "print(\"All results have been saved succesfully in the workfile\")\n",
    "workfile.close()"
   ]
  },
  {
   "cell_type": "markdown",
   "metadata": {},
   "source": [
    "### Visualise the results\n",
    "\n",
    "The visualisations below display:\n",
    "+ the similarity for each aligned sentence pair using two different similarity measures: BLEU and cosine similarity;\n",
    "+ the most frequent lexical differences between all aligned sentence pairs.\n",
    "\n",
    "Both visualisations will be stored as .png-files in the directory of this notebook. You can change the title of the graphs in the code below."
   ]
  },
  {
   "cell_type": "markdown",
   "metadata": {},
   "source": [
    "#### Similarity by aligned sentence pair"
   ]
  },
  {
   "cell_type": "code",
   "execution_count": null,
   "metadata": {
    "scrolled": false
   },
   "outputs": [],
   "source": [
    "%matplotlib inline\n",
    "fig = plt.figure(figsize=(8,4), dpi=300)\n",
    "\n",
    "plt.plot(range(0,len(xvalues)), BLEU_yvalues, label=\"BLEU-4\", linewidth=0.4)\n",
    "plt.plot(range(0,len(xvalues)), Cosine_yvalues, label=\"Cosine\", linewidth=0.4)\n",
    "\n",
    "plt.style.use(\"default\")\n",
    "#plt.plot(xvalues, Levenshtein_yvalues)\n",
    "plt.suptitle(\"Similarity between 'source.txt' and 'target.txt' by sentence pair\")\n",
    "plt.xlabel(\"Sentence pair\")\n",
    "plt.ylabel(\"Similarity\")\n",
    "plt.legend()\n",
    "plt.show()\n",
    "\n",
    "fig.savefig(\"similarity_plot.png\") #save the file"
   ]
  },
  {
   "cell_type": "markdown",
   "metadata": {},
   "source": [
    "#### Most frequent lexical differences between 'source' and 'target'"
   ]
  },
  {
   "cell_type": "code",
   "execution_count": null,
   "metadata": {},
   "outputs": [],
   "source": [
    "untrans_in_source_flattened = [item for sublist in untrans_in_source_total for item in sublist if item not in stopwords]\n",
    "untrans_in_source_freqs = nltk.FreqDist(untrans_in_source_flattened)\n",
    "\n",
    "fig = plt.figure(figsize=(8,4), dpi=300)\n",
    "\n",
    "untrans_in_target_flattened = [item for sublist in untrans_in_target_total for item in sublist if item not in stopwords]\n",
    "untrans_in_target_freqs = nltk.FreqDist(untrans_in_target_flattened)\n",
    "untrans_in_source_freqs.plot(40,title=\"Lexical differences between 'source.txt' and 'target.txt'\")\n",
    "#untrans_in_target_freqs.plot(40,title=\"Lexical differences between 'source.txt' and 'target.txt'\")\n",
    "\n",
    "fig.savefig(\"lexical_differences_plot.png\") #save the file"
   ]
  }
 ],
 "metadata": {
  "kernelspec": {
   "display_name": "Python 3",
   "language": "python",
   "name": "python3"
  },
  "language_info": {
   "codemirror_mode": {
    "name": "ipython",
    "version": 3
   },
   "file_extension": ".py",
   "mimetype": "text/x-python",
   "name": "python",
   "nbconvert_exporter": "python",
   "pygments_lexer": "ipython3",
   "version": "3.7.3"
  }
 },
 "nbformat": 4,
 "nbformat_minor": 2
}
